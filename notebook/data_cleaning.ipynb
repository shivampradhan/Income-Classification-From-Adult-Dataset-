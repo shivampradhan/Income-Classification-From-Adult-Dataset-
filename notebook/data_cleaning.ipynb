{
 "cells": [
  {
   "cell_type": "markdown",
   "metadata": {},
   "source": [
    "# data loading"
   ]
  },
  {
   "cell_type": "code",
   "execution_count": 1,
   "metadata": {},
   "outputs": [],
   "source": [
    "import numpy as np\n",
    "import pandas as pd\n",
    "import seaborn as sns\n",
    "import os\n",
    "import configparser"
   ]
  },
  {
   "cell_type": "code",
   "execution_count": 3,
   "metadata": {},
   "outputs": [
    {
     "data": {
      "text/plain": [
       "'D:\\\\Shivam\\\\Upwork\\\\JoleneMartin\\\\1\\\\notebook'"
      ]
     },
     "execution_count": 3,
     "metadata": {},
     "output_type": "execute_result"
    }
   ],
   "source": [
    "#dont run it twice\n",
    "\n",
    "path = os.getcwd()\n",
    "os.chdir('../')\n",
    "path\n"
   ]
  },
  {
   "cell_type": "code",
   "execution_count": 4,
   "metadata": {},
   "outputs": [],
   "source": [
    "config = configparser.ConfigParser()\n",
    "config.read('config.ini')\n",
    "input_path = config['path']['InputPath']\n",
    "output_path = config['path']['OutputPath']"
   ]
  },
  {
   "cell_type": "code",
   "execution_count": 5,
   "metadata": {},
   "outputs": [],
   "source": [
    "pd.options.mode.chained_assignment = None \n",
    "np.random.seed(30)"
   ]
  },
  {
   "cell_type": "code",
   "execution_count": 6,
   "metadata": {},
   "outputs": [
    {
     "name": "stdout",
     "output_type": "stream",
     "text": [
      "(30205, 15)\n"
     ]
    },
    {
     "data": {
      "text/html": [
       "<div>\n",
       "<style scoped>\n",
       "    .dataframe tbody tr th:only-of-type {\n",
       "        vertical-align: middle;\n",
       "    }\n",
       "\n",
       "    .dataframe tbody tr th {\n",
       "        vertical-align: top;\n",
       "    }\n",
       "\n",
       "    .dataframe thead th {\n",
       "        text-align: right;\n",
       "    }\n",
       "</style>\n",
       "<table border=\"1\" class=\"dataframe\">\n",
       "  <thead>\n",
       "    <tr style=\"text-align: right;\">\n",
       "      <th></th>\n",
       "      <th>id</th>\n",
       "      <th>age</th>\n",
       "      <th>workclass</th>\n",
       "      <th>education</th>\n",
       "      <th>education_num</th>\n",
       "      <th>marital_status</th>\n",
       "      <th>occupation</th>\n",
       "      <th>relationship</th>\n",
       "      <th>race</th>\n",
       "      <th>sex</th>\n",
       "      <th>capital_gain</th>\n",
       "      <th>capital_loss</th>\n",
       "      <th>hours_per_week</th>\n",
       "      <th>native_country</th>\n",
       "      <th>over_50k</th>\n",
       "    </tr>\n",
       "  </thead>\n",
       "  <tbody>\n",
       "    <tr>\n",
       "      <th>0</th>\n",
       "      <td>12106</td>\n",
       "      <td>32</td>\n",
       "      <td>Private</td>\n",
       "      <td>HS-grad</td>\n",
       "      <td>9</td>\n",
       "      <td>Divorced</td>\n",
       "      <td>Adm-clerical</td>\n",
       "      <td>Other-relative</td>\n",
       "      <td>Whi t e</td>\n",
       "      <td>Female</td>\n",
       "      <td>0</td>\n",
       "      <td>0</td>\n",
       "      <td>40</td>\n",
       "      <td>United-States</td>\n",
       "      <td>&lt;=50K</td>\n",
       "    </tr>\n",
       "    <tr>\n",
       "      <th>1</th>\n",
       "      <td>28951</td>\n",
       "      <td>43</td>\n",
       "      <td>State-gov</td>\n",
       "      <td>Some-college</td>\n",
       "      <td>10</td>\n",
       "      <td>Divorced</td>\n",
       "      <td>Adm-clerical</td>\n",
       "      <td>Unmarried</td>\n",
       "      <td>Whi t e</td>\n",
       "      <td>Female</td>\n",
       "      <td>0</td>\n",
       "      <td>0</td>\n",
       "      <td>40</td>\n",
       "      <td>United-States</td>\n",
       "      <td>&lt;=50K</td>\n",
       "    </tr>\n",
       "    <tr>\n",
       "      <th>2</th>\n",
       "      <td>24570</td>\n",
       "      <td>35</td>\n",
       "      <td>Private</td>\n",
       "      <td>HS-grad</td>\n",
       "      <td>9</td>\n",
       "      <td>Married-civ-spouse</td>\n",
       "      <td>Exec-managerial</td>\n",
       "      <td>Wife</td>\n",
       "      <td>White</td>\n",
       "      <td>Female</td>\n",
       "      <td>0</td>\n",
       "      <td>0</td>\n",
       "      <td>40</td>\n",
       "      <td>United-States</td>\n",
       "      <td>&gt;50K</td>\n",
       "    </tr>\n",
       "    <tr>\n",
       "      <th>3</th>\n",
       "      <td>16358</td>\n",
       "      <td>31</td>\n",
       "      <td>Private</td>\n",
       "      <td>NaN</td>\n",
       "      <td>14</td>\n",
       "      <td>Never-married</td>\n",
       "      <td>Prof-specialty</td>\n",
       "      <td>Not-in-family</td>\n",
       "      <td>Black</td>\n",
       "      <td>Male</td>\n",
       "      <td>0</td>\n",
       "      <td>0</td>\n",
       "      <td>40</td>\n",
       "      <td>United-States</td>\n",
       "      <td>&lt;=50K</td>\n",
       "    </tr>\n",
       "    <tr>\n",
       "      <th>4</th>\n",
       "      <td>9375</td>\n",
       "      <td>64</td>\n",
       "      <td>Private</td>\n",
       "      <td>Some-college</td>\n",
       "      <td>10</td>\n",
       "      <td>Married-civ-spouse</td>\n",
       "      <td>Exec-managerial</td>\n",
       "      <td>Wife</td>\n",
       "      <td>White</td>\n",
       "      <td>Female</td>\n",
       "      <td>10566</td>\n",
       "      <td>0</td>\n",
       "      <td>35</td>\n",
       "      <td>United-States</td>\n",
       "      <td>&lt;=50K</td>\n",
       "    </tr>\n",
       "  </tbody>\n",
       "</table>\n",
       "</div>"
      ],
      "text/plain": [
       "      id  age  workclass     education  education_num      marital_status  \\\n",
       "0  12106   32    Private       HS-grad              9            Divorced   \n",
       "1  28951   43  State-gov  Some-college             10            Divorced   \n",
       "2  24570   35    Private       HS-grad              9  Married-civ-spouse   \n",
       "3  16358   31    Private           NaN             14       Never-married   \n",
       "4   9375   64    Private  Some-college             10  Married-civ-spouse   \n",
       "\n",
       "        occupation    relationship     race     sex  capital_gain  \\\n",
       "0     Adm-clerical  Other-relative  Whi t e  Female             0   \n",
       "1     Adm-clerical       Unmarried  Whi t e  Female             0   \n",
       "2  Exec-managerial            Wife    White  Female             0   \n",
       "3   Prof-specialty   Not-in-family    Black    Male             0   \n",
       "4  Exec-managerial            Wife    White  Female         10566   \n",
       "\n",
       "   capital_loss  hours_per_week native_country over_50k  \n",
       "0             0              40  United-States    <=50K  \n",
       "1             0              40  United-States    <=50K  \n",
       "2             0              40  United-States     >50K  \n",
       "3             0              40  United-States    <=50K  \n",
       "4             0              35  United-States    <=50K  "
      ]
     },
     "execution_count": 6,
     "metadata": {},
     "output_type": "execute_result"
    }
   ],
   "source": [
    "raw_data = pd.read_csv(input_path)\n",
    "print(raw_data.shape)\n",
    "raw_data.head()"
   ]
  },
  {
   "cell_type": "code",
   "execution_count": 7,
   "metadata": {},
   "outputs": [
    {
     "data": {
      "text/plain": [
       "id                   0\n",
       "age                  0\n",
       "workclass            0\n",
       "education         3024\n",
       "education_num        0\n",
       "marital_status       0\n",
       "occupation           0\n",
       "relationship         0\n",
       "race                 0\n",
       "sex                  0\n",
       "capital_gain         0\n",
       "capital_loss         0\n",
       "hours_per_week       0\n",
       "native_country       0\n",
       "over_50k          3271\n",
       "dtype: int64"
      ]
     },
     "execution_count": 7,
     "metadata": {},
     "output_type": "execute_result"
    }
   ],
   "source": [
    "raw_data.isnull().sum(axis = 0)"
   ]
  },
  {
   "cell_type": "markdown",
   "metadata": {},
   "source": [
    "## Checking and removing duplicate rows as it wont help the model train"
   ]
  },
  {
   "cell_type": "code",
   "execution_count": 8,
   "metadata": {},
   "outputs": [
    {
     "name": "stdout",
     "output_type": "stream",
     "text": [
      "(717, 15)\n"
     ]
    }
   ],
   "source": [
    "duplicate=raw_data[raw_data.duplicated(subset=None, keep='first')]\n",
    "print(duplicate.shape)\n",
    "#duplicate"
   ]
  },
  {
   "cell_type": "code",
   "execution_count": 9,
   "metadata": {},
   "outputs": [
    {
     "name": "stdout",
     "output_type": "stream",
     "text": [
      "(29488, 15)\n"
     ]
    }
   ],
   "source": [
    "unique_data=raw_data.drop_duplicates( keep='first', inplace=False)\n",
    "print(unique_data.shape)\n",
    "#unique_data\n"
   ]
  },
  {
   "cell_type": "markdown",
   "metadata": {},
   "source": [
    "## Checking na"
   ]
  },
  {
   "cell_type": "code",
   "execution_count": 10,
   "metadata": {},
   "outputs": [
    {
     "data": {
      "text/plain": [
       "id                   0\n",
       "age                  0\n",
       "workclass            0\n",
       "education         3012\n",
       "education_num        0\n",
       "marital_status       0\n",
       "occupation           0\n",
       "relationship         0\n",
       "race                 0\n",
       "sex                  0\n",
       "capital_gain         0\n",
       "capital_loss         0\n",
       "hours_per_week       0\n",
       "native_country       0\n",
       "over_50k          3211\n",
       "dtype: int64"
      ]
     },
     "execution_count": 10,
     "metadata": {},
     "output_type": "execute_result"
    }
   ],
   "source": [
    "unique_data.isna().sum(axis = 0)"
   ]
  },
  {
   "cell_type": "markdown",
   "metadata": {},
   "source": [
    "## Removing data with na in over_50k as we cant fill it because it is the Target variable"
   ]
  },
  {
   "cell_type": "code",
   "execution_count": 11,
   "metadata": {},
   "outputs": [
    {
     "data": {
      "text/plain": [
       "3211"
      ]
     },
     "execution_count": 11,
     "metadata": {},
     "output_type": "execute_result"
    }
   ],
   "source": [
    "output_na=unique_data[unique_data['over_50k'].isna()]\n",
    "output_na['over_50k'].isna().count()"
   ]
  },
  {
   "cell_type": "code",
   "execution_count": 12,
   "metadata": {},
   "outputs": [
    {
     "data": {
      "text/plain": [
       "(26277, 15)"
      ]
     },
     "execution_count": 12,
     "metadata": {},
     "output_type": "execute_result"
    }
   ],
   "source": [
    "input_data=unique_data[~unique_data['over_50k'].isna()]\n",
    "input_data.shape"
   ]
  },
  {
   "cell_type": "markdown",
   "metadata": {},
   "source": [
    "## so actual  input data we have is 26277 rows"
   ]
  },
  {
   "cell_type": "markdown",
   "metadata": {},
   "source": [
    "# correcting wrong label for white in race"
   ]
  },
  {
   "cell_type": "code",
   "execution_count": 13,
   "metadata": {},
   "outputs": [
    {
     "name": "stdout",
     "output_type": "stream",
     "text": [
      "race\n",
      "Amer-Indian-Eskimo      290\n",
      "Asian-Pac-Islander      944\n",
      "Black                  2837\n",
      "Other                   251\n",
      "Whi t e                3271\n",
      "White                 18684\n",
      "Name: id, dtype: int64\n"
     ]
    }
   ],
   "source": [
    "print(input_data.groupby('race')['id'].count())\n",
    "\n"
   ]
  },
  {
   "cell_type": "code",
   "execution_count": 14,
   "metadata": {},
   "outputs": [
    {
     "name": "stdout",
     "output_type": "stream",
     "text": [
      "race\n",
      "Amer-Indian-Eskimo      290\n",
      "Asian-Pac-Islander      944\n",
      "Black                  2837\n",
      "Other                   251\n",
      "White                 21955\n",
      "Name: id, dtype: int64\n"
     ]
    }
   ],
   "source": [
    "#renaming whi t e \n",
    "#input_data.loc[input_data.race == 'Whi t e','Whi t e'] = 'White'\n",
    "input_data['race'][input_data.race == 'Whi t e'] = 'White'\n",
    "\n",
    "print(input_data.groupby('race')['id'].count())"
   ]
  },
  {
   "cell_type": "markdown",
   "metadata": {},
   "source": [
    "## dealing with wrong data of age -1\n"
   ]
  },
  {
   "cell_type": "code",
   "execution_count": 15,
   "metadata": {},
   "outputs": [
    {
     "data": {
      "text/plain": [
       "<matplotlib.axes._subplots.AxesSubplot at 0x1c00efda148>"
      ]
     },
     "execution_count": 15,
     "metadata": {},
     "output_type": "execute_result"
    },
    {
     "data": {
      "image/png": "[encoded data removed]",
      "text/plain": [
       "<Figure size 432x288 with 1 Axes>"
      ]
     },
     "metadata": {
      "needs_background": "light"
     },
     "output_type": "display_data"
    }
   ],
   "source": [
    "sns.distplot(input_data.age)"
   ]
  },
  {
   "cell_type": "code",
   "execution_count": 16,
   "metadata": {},
   "outputs": [
    {
     "name": "stdout",
     "output_type": "stream",
     "text": [
      "Age less than zero in dataset 2824\n"
     ]
    }
   ],
   "source": [
    "c=input_data[input_data['age']<0]['age'].count()\n",
    "print(f\"Age less than zero in dataset {c}\")"
   ]
  },
  {
   "cell_type": "code",
   "execution_count": 17,
   "metadata": {},
   "outputs": [
    {
     "data": {
      "text/plain": [
       "2821"
      ]
     },
     "execution_count": 17,
     "metadata": {},
     "output_type": "execute_result"
    }
   ],
   "source": [
    "input_data[(input_data['age']<22) & (input_data['over_50k']=='<=50K')]['age'].count()"
   ]
  },
  {
   "cell_type": "code",
   "execution_count": 18,
   "metadata": {},
   "outputs": [
    {
     "data": {
      "text/html": [
       "<div>\n",
       "<style scoped>\n",
       "    .dataframe tbody tr th:only-of-type {\n",
       "        vertical-align: middle;\n",
       "    }\n",
       "\n",
       "    .dataframe tbody tr th {\n",
       "        vertical-align: top;\n",
       "    }\n",
       "\n",
       "    .dataframe thead th {\n",
       "        text-align: right;\n",
       "    }\n",
       "</style>\n",
       "<table border=\"1\" class=\"dataframe\">\n",
       "  <thead>\n",
       "    <tr style=\"text-align: right;\">\n",
       "      <th></th>\n",
       "      <th>id</th>\n",
       "      <th>age</th>\n",
       "      <th>workclass</th>\n",
       "      <th>education</th>\n",
       "      <th>education_num</th>\n",
       "      <th>occupation</th>\n",
       "      <th>relationship</th>\n",
       "      <th>race</th>\n",
       "      <th>sex</th>\n",
       "      <th>capital_gain</th>\n",
       "      <th>capital_loss</th>\n",
       "      <th>hours_per_week</th>\n",
       "      <th>native_country</th>\n",
       "      <th>over_50k</th>\n",
       "    </tr>\n",
       "    <tr>\n",
       "      <th>marital_status</th>\n",
       "      <th></th>\n",
       "      <th></th>\n",
       "      <th></th>\n",
       "      <th></th>\n",
       "      <th></th>\n",
       "      <th></th>\n",
       "      <th></th>\n",
       "      <th></th>\n",
       "      <th></th>\n",
       "      <th></th>\n",
       "      <th></th>\n",
       "      <th></th>\n",
       "      <th></th>\n",
       "      <th></th>\n",
       "    </tr>\n",
       "  </thead>\n",
       "  <tbody>\n",
       "    <tr>\n",
       "      <th>Divorced</th>\n",
       "      <td>15</td>\n",
       "      <td>15</td>\n",
       "      <td>15</td>\n",
       "      <td>14</td>\n",
       "      <td>15</td>\n",
       "      <td>15</td>\n",
       "      <td>15</td>\n",
       "      <td>15</td>\n",
       "      <td>15</td>\n",
       "      <td>15</td>\n",
       "      <td>15</td>\n",
       "      <td>15</td>\n",
       "      <td>15</td>\n",
       "      <td>15</td>\n",
       "    </tr>\n",
       "    <tr>\n",
       "      <th>Married-AF-spouse</th>\n",
       "      <td>2</td>\n",
       "      <td>2</td>\n",
       "      <td>2</td>\n",
       "      <td>2</td>\n",
       "      <td>2</td>\n",
       "      <td>2</td>\n",
       "      <td>2</td>\n",
       "      <td>2</td>\n",
       "      <td>2</td>\n",
       "      <td>2</td>\n",
       "      <td>2</td>\n",
       "      <td>2</td>\n",
       "      <td>2</td>\n",
       "      <td>2</td>\n",
       "    </tr>\n",
       "    <tr>\n",
       "      <th>Married-civ-spouse</th>\n",
       "      <td>100</td>\n",
       "      <td>100</td>\n",
       "      <td>100</td>\n",
       "      <td>91</td>\n",
       "      <td>100</td>\n",
       "      <td>100</td>\n",
       "      <td>100</td>\n",
       "      <td>100</td>\n",
       "      <td>100</td>\n",
       "      <td>100</td>\n",
       "      <td>100</td>\n",
       "      <td>100</td>\n",
       "      <td>100</td>\n",
       "      <td>100</td>\n",
       "    </tr>\n",
       "    <tr>\n",
       "      <th>Married-spouse-absent</th>\n",
       "      <td>12</td>\n",
       "      <td>12</td>\n",
       "      <td>12</td>\n",
       "      <td>12</td>\n",
       "      <td>12</td>\n",
       "      <td>12</td>\n",
       "      <td>12</td>\n",
       "      <td>12</td>\n",
       "      <td>12</td>\n",
       "      <td>12</td>\n",
       "      <td>12</td>\n",
       "      <td>12</td>\n",
       "      <td>12</td>\n",
       "      <td>12</td>\n",
       "    </tr>\n",
       "    <tr>\n",
       "      <th>Never-married</th>\n",
       "      <td>2672</td>\n",
       "      <td>2672</td>\n",
       "      <td>2672</td>\n",
       "      <td>2396</td>\n",
       "      <td>2672</td>\n",
       "      <td>2672</td>\n",
       "      <td>2672</td>\n",
       "      <td>2672</td>\n",
       "      <td>2672</td>\n",
       "      <td>2672</td>\n",
       "      <td>2672</td>\n",
       "      <td>2672</td>\n",
       "      <td>2672</td>\n",
       "      <td>2672</td>\n",
       "    </tr>\n",
       "    <tr>\n",
       "      <th>Separated</th>\n",
       "      <td>19</td>\n",
       "      <td>19</td>\n",
       "      <td>19</td>\n",
       "      <td>17</td>\n",
       "      <td>19</td>\n",
       "      <td>19</td>\n",
       "      <td>19</td>\n",
       "      <td>19</td>\n",
       "      <td>19</td>\n",
       "      <td>19</td>\n",
       "      <td>19</td>\n",
       "      <td>19</td>\n",
       "      <td>19</td>\n",
       "      <td>19</td>\n",
       "    </tr>\n",
       "    <tr>\n",
       "      <th>Widowed</th>\n",
       "      <td>1</td>\n",
       "      <td>1</td>\n",
       "      <td>1</td>\n",
       "      <td>1</td>\n",
       "      <td>1</td>\n",
       "      <td>1</td>\n",
       "      <td>1</td>\n",
       "      <td>1</td>\n",
       "      <td>1</td>\n",
       "      <td>1</td>\n",
       "      <td>1</td>\n",
       "      <td>1</td>\n",
       "      <td>1</td>\n",
       "      <td>1</td>\n",
       "    </tr>\n",
       "  </tbody>\n",
       "</table>\n",
       "</div>"
      ],
      "text/plain": [
       "                         id   age  workclass  education  education_num  \\\n",
       "marital_status                                                           \n",
       "Divorced                 15    15         15         14             15   \n",
       "Married-AF-spouse         2     2          2          2              2   \n",
       "Married-civ-spouse      100   100        100         91            100   \n",
       "Married-spouse-absent    12    12         12         12             12   \n",
       "Never-married          2672  2672       2672       2396           2672   \n",
       "Separated                19    19         19         17             19   \n",
       "Widowed                   1     1          1          1              1   \n",
       "\n",
       "                       occupation  relationship  race   sex  capital_gain  \\\n",
       "marital_status                                                              \n",
       "Divorced                       15            15    15    15            15   \n",
       "Married-AF-spouse               2             2     2     2             2   \n",
       "Married-civ-spouse            100           100   100   100           100   \n",
       "Married-spouse-absent          12            12    12    12            12   \n",
       "Never-married                2672          2672  2672  2672          2672   \n",
       "Separated                      19            19    19    19            19   \n",
       "Widowed                         1             1     1     1             1   \n",
       "\n",
       "                       capital_loss  hours_per_week  native_country  over_50k  \n",
       "marital_status                                                                 \n",
       "Divorced                         15              15              15        15  \n",
       "Married-AF-spouse                 2               2               2         2  \n",
       "Married-civ-spouse              100             100             100       100  \n",
       "Married-spouse-absent            12              12              12        12  \n",
       "Never-married                  2672            2672            2672      2672  \n",
       "Separated                        19              19              19        19  \n",
       "Widowed                           1               1               1         1  "
      ]
     },
     "execution_count": 18,
     "metadata": {},
     "output_type": "execute_result"
    }
   ],
   "source": [
    "x=input_data[(input_data['age']<22) & (input_data['over_50k']=='<=50K')]\n",
    "#x.groupby('workclass').count() 2172\n",
    "#x.groupby('marital_status').count() 2672\n",
    "x.groupby('marital_status').count()\n",
    "#y=input_data[(input_data['marital_status']=='Never-married')]\n",
    "#list(y.groupby('age')['id'].count())"
   ]
  },
  {
   "cell_type": "markdown",
   "metadata": {},
   "source": [
    "### most of the na in age are never  married "
   ]
  },
  {
   "cell_type": "code",
   "execution_count": 19,
   "metadata": {},
   "outputs": [
    {
     "name": "stdout",
     "output_type": "stream",
     "text": [
      "Age less than zero in dataset 2824\n"
     ]
    }
   ],
   "source": [
    "c=input_data[input_data['age']<0]['age'].count()\n",
    "print(f\"Age less than zero in dataset {c}\")"
   ]
  },
  {
   "cell_type": "markdown",
   "metadata": {},
   "source": [
    "# age imputation of never married uniformly"
   ]
  },
  {
   "cell_type": "code",
   "execution_count": 20,
   "metadata": {},
   "outputs": [
    {
     "data": {
      "text/plain": [
       "<matplotlib.axes._subplots.AxesSubplot at 0x1c00fdd7e48>"
      ]
     },
     "execution_count": 20,
     "metadata": {},
     "output_type": "execute_result"
    },
    {
     "data": {
      "image/png": "[encoded data removed]",
      "text/plain": [
       "<Figure size 432x288 with 1 Axes>"
      ]
     },
     "metadata": {
      "needs_background": "light"
     },
     "output_type": "display_data"
    }
   ],
   "source": [
    "x=((input_data['age'] == -1) & (input_data['marital_status']=='Never-married'))\n",
    "\n",
    "input_data.loc[((input_data['age'] == -1) & (input_data['marital_status']=='Never-married')),'age'] =np.random.randint(15,35, len(input_data.loc[((input_data['age'] == -1) & (input_data['marital_status']=='Never-married'))]))\n",
    "sns.distplot(input_data.age)"
   ]
  },
  {
   "cell_type": "code",
   "execution_count": 21,
   "metadata": {},
   "outputs": [
    {
     "name": "stdout",
     "output_type": "stream",
     "text": [
      "Age less than zero in dataset 150\n"
     ]
    }
   ],
   "source": [
    "c=input_data[input_data['age']<0]['age'].count()\n",
    "print(f\"Age less than zero in dataset {c}\")"
   ]
  },
  {
   "cell_type": "code",
   "execution_count": 22,
   "metadata": {},
   "outputs": [
    {
     "data": {
      "text/plain": [
       "150"
      ]
     },
     "execution_count": 22,
     "metadata": {},
     "output_type": "execute_result"
    }
   ],
   "source": [
    "input_data['age'][input_data.age == -1] = np.nan\n",
    "input_data['age'].isna().sum()"
   ]
  },
  {
   "cell_type": "code",
   "execution_count": 23,
   "metadata": {},
   "outputs": [
    {
     "data": {
      "text/plain": [
       "(26127, 15)"
      ]
     },
     "execution_count": 23,
     "metadata": {},
     "output_type": "execute_result"
    }
   ],
   "source": [
    "input_data=input_data[~input_data['age'].isna()]\n",
    "input_data.shape"
   ]
  },
  {
   "cell_type": "markdown",
   "metadata": {},
   "source": [
    "## Dealing with ? in data"
   ]
  },
  {
   "cell_type": "code",
   "execution_count": 24,
   "metadata": {},
   "outputs": [],
   "source": [
    "input_data['native_country'][input_data.native_country == '?'] = np.nan\n",
    "input_data['workclass'][input_data.workclass == '?'] = np.nan\n",
    "input_data['occupation'][input_data.occupation == '?'] = np.nan\n"
   ]
  },
  {
   "cell_type": "code",
   "execution_count": 25,
   "metadata": {},
   "outputs": [
    {
     "name": "stdout",
     "output_type": "stream",
     "text": [
      "? in workclass is 0 native_country is 0 occupation is 0\n"
     ]
    }
   ],
   "source": [
    "workclass_q=input_data[input_data['workclass']=='?']['id'].count()\n",
    "native_country_q=input_data[input_data['native_country']=='?']['id'].count()\n",
    "occupation_q=input_data[input_data['occupation']=='?']['id'].count()\n",
    "print (f\"? in workclass is {workclass_q} native_country is {native_country_q} occupation is {occupation_q}\")\n"
   ]
  },
  {
   "cell_type": "code",
   "execution_count": null,
   "metadata": {},
   "outputs": [],
   "source": []
  },
  {
   "cell_type": "markdown",
   "metadata": {},
   "source": [
    "# total actual null "
   ]
  },
  {
   "cell_type": "code",
   "execution_count": 26,
   "metadata": {},
   "outputs": [
    {
     "data": {
      "text/plain": [
       "6301"
      ]
     },
     "execution_count": 26,
     "metadata": {},
     "output_type": "execute_result"
    }
   ],
   "source": [
    "input_data.isna().sum().sum()"
   ]
  },
  {
   "cell_type": "code",
   "execution_count": 27,
   "metadata": {},
   "outputs": [
    {
     "data": {
      "text/plain": [
       "4493"
      ]
     },
     "execution_count": 27,
     "metadata": {},
     "output_type": "execute_result"
    }
   ],
   "source": [
    "input_data[\n",
    "    (input_data['occupation'].isnull())\n",
    "           |  (input_data['workclass'].isnull() ) \n",
    "           |  (input_data['native_country'].isnull())\n",
    "         \n",
    "           |  (input_data['education'].isnull())\n",
    "        \n",
    "]['id'].count() # it means there are rows with more than one variable having nan"
   ]
  },
  {
   "cell_type": "code",
   "execution_count": 28,
   "metadata": {},
   "outputs": [
    {
     "data": {
      "text/plain": [
       "3942"
      ]
     },
     "execution_count": 28,
     "metadata": {},
     "output_type": "execute_result"
    }
   ],
   "source": [
    "\n",
    "\n",
    "input_data[\n",
    "    ((\n",
    "        input_data['occupation'].isnull())\n",
    "           |  (input_data['workclass'].isnull() ) \n",
    "           |  (input_data['native_country'].isnull())\n",
    "        \n",
    "           |  (input_data['education'].isnull())\n",
    "          \n",
    "    )\n",
    "    \n",
    "           & (input_data['over_50k']=='<=50K')\n",
    "]['id'].count()"
   ]
  },
  {
   "cell_type": "markdown",
   "metadata": {},
   "source": [
    "# dropping the null data ROWS  of over_50k not true area to help solving data imbalance"
   ]
  },
  {
   "cell_type": "code",
   "execution_count": 29,
   "metadata": {},
   "outputs": [
    {
     "name": "stdout",
     "output_type": "stream",
     "text": [
      "26127\n"
     ]
    },
    {
     "data": {
      "text/plain": [
       "22185"
      ]
     },
     "execution_count": 29,
     "metadata": {},
     "output_type": "execute_result"
    }
   ],
   "source": [
    "print(input_data['id'].count())\n",
    "dropped_data=input_data[~\n",
    "    ((\n",
    "        (input_data['occupation'].isnull())\n",
    "           |  (input_data['workclass'].isnull() )\n",
    "           |  (input_data['native_country'].isnull())\n",
    "           |  (input_data['education'].isnull())\n",
    "    )\n",
    "           \n",
    "        \n",
    "        & (input_data['over_50k']=='<=50K'))\n",
    "]\n",
    "dropped_data['id'].count()"
   ]
  },
  {
   "cell_type": "markdown",
   "metadata": {},
   "source": [
    "# dealing with remaining NA"
   ]
  },
  {
   "cell_type": "code",
   "execution_count": 30,
   "metadata": {},
   "outputs": [
    {
     "data": {
      "text/plain": [
       "551"
      ]
     },
     "execution_count": 30,
     "metadata": {},
     "output_type": "execute_result"
    }
   ],
   "source": [
    "dropped_data[\n",
    "    (dropped_data['education'].isnull()) \n",
    "           |  (dropped_data['workclass'].isnull() ) \n",
    "           |  (dropped_data['native_country'].isnull())\n",
    "          \n",
    "           |  (dropped_data['occupation'].isnull())\n",
    "           #| (dropped_data['age']<0)\n",
    "]['id'].count()"
   ]
  },
  {
   "cell_type": "code",
   "execution_count": 31,
   "metadata": {},
   "outputs": [
    {
     "name": "stdout",
     "output_type": "stream",
     "text": [
      "NA in workclass is 101 native_country is 68 occupation is 101\n"
     ]
    }
   ],
   "source": [
    "workclass_q=dropped_data[dropped_data['workclass'].isnull()]['id'].count()\n",
    "native_country_q=dropped_data[dropped_data['native_country'].isnull()]['id'].count()\n",
    "occupation_q=dropped_data[dropped_data['occupation'].isnull()]['id'].count()\n",
    "print (f\"NA in workclass is {workclass_q} native_country is {native_country_q} occupation is {occupation_q}\")\n"
   ]
  },
  {
   "cell_type": "markdown",
   "metadata": {},
   "source": [
    "## Dropping off the common row in workclass and occupation NA"
   ]
  },
  {
   "cell_type": "code",
   "execution_count": 32,
   "metadata": {},
   "outputs": [
    {
     "data": {
      "text/plain": [
       "101"
      ]
     },
     "execution_count": 32,
     "metadata": {},
     "output_type": "execute_result"
    }
   ],
   "source": [
    "dropped_data[\n",
    "            (   dropped_data['occupation'].isnull())\n",
    "           & (dropped_data['workclass'].isnull() ) \n",
    "          ]['id'].count()"
   ]
  },
  {
   "cell_type": "code",
   "execution_count": 33,
   "metadata": {},
   "outputs": [
    {
     "name": "stdout",
     "output_type": "stream",
     "text": [
      "26127\n"
     ]
    },
    {
     "data": {
      "text/plain": [
       "22084"
      ]
     },
     "execution_count": 33,
     "metadata": {},
     "output_type": "execute_result"
    }
   ],
   "source": [
    "print(input_data['id'].count())\n",
    "dropped_data=dropped_data[~\n",
    "    ((   dropped_data['occupation'].isnull())\n",
    "           & (dropped_data['workclass'].isnull() ) )\n",
    "]\n",
    "dropped_data['id'].count()"
   ]
  },
  {
   "cell_type": "code",
   "execution_count": 34,
   "metadata": {},
   "outputs": [
    {
     "name": "stdout",
     "output_type": "stream",
     "text": [
      "NA in workclass is 0 native_country is 64 occupation is 0\n"
     ]
    }
   ],
   "source": [
    "workclass_q=dropped_data[dropped_data['workclass'].isnull()]['id'].count()\n",
    "native_country_q=dropped_data[dropped_data['native_country'].isnull()]['id'].count()\n",
    "occupation_q=dropped_data[dropped_data['occupation'].isnull()]['id'].count()\n",
    "print (f\"NA in workclass is {workclass_q} native_country is {native_country_q} occupation is {occupation_q}\")\n"
   ]
  },
  {
   "cell_type": "code",
   "execution_count": null,
   "metadata": {},
   "outputs": [],
   "source": []
  },
  {
   "cell_type": "markdown",
   "metadata": {},
   "source": [
    "# now we will fill the remaining nan"
   ]
  },
  {
   "cell_type": "code",
   "execution_count": 35,
   "metadata": {},
   "outputs": [
    {
     "name": "stdout",
     "output_type": "stream",
     "text": [
      "nan left 459\n",
      "nan left 395\n",
      "nan left 0\n"
     ]
    }
   ],
   "source": [
    "print(\"nan left\",dropped_data.isna().sum().sum())\n",
    "mod=dropped_data['native_country'].mode()\n",
    "dropped_data['native_country'][dropped_data.native_country.isnull()] = 'United-States'\n",
    "print(\"nan left\",dropped_data.isna().sum().sum())\n",
    "\n",
    "dropped_data = dropped_data.fillna(dropped_data['education'].value_counts().index[0])\n",
    "print(\"nan left\",dropped_data.isna().sum().sum())"
   ]
  },
  {
   "cell_type": "code",
   "execution_count": 36,
   "metadata": {},
   "outputs": [
    {
     "data": {
      "text/plain": [
       "(22084, 15)"
      ]
     },
     "execution_count": 36,
     "metadata": {},
     "output_type": "execute_result"
    }
   ],
   "source": [
    "data=dropped_data\n",
    "data.shape"
   ]
  },
  {
   "cell_type": "markdown",
   "metadata": {},
   "source": [
    "# saving data"
   ]
  },
  {
   "cell_type": "code",
   "execution_count": 37,
   "metadata": {},
   "outputs": [],
   "source": [
    "data.to_csv(output_path,index=False)"
   ]
  },
  {
   "cell_type": "code",
   "execution_count": null,
   "metadata": {},
   "outputs": [],
   "source": []
  }
 ],
 "metadata": {
  "kernelspec": {
   "display_name": "Python 3",
   "language": "python",
   "name": "python3"
  },
  "language_info": {
   "codemirror_mode": {
    "name": "ipython",
    "version": 3
   },
   "file_extension": ".py",
   "mimetype": "text/x-python",
   "name": "python",
   "nbconvert_exporter": "python",
   "pygments_lexer": "ipython3",
   "version": "3.7.6"
  }
 },
 "nbformat": 4,
 "nbformat_minor": 4
}
